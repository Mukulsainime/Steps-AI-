{
 "cells": [
  {
   "cell_type": "code",
   "execution_count": 1,
   "id": "b5fa1e0d-00a9-4c9a-a35f-2b59665c8d3f",
   "metadata": {},
   "outputs": [],
   "source": [
    "from langchain_community.document_loaders import PyPDFLoader \n",
    "import os\n",
    "from dotenv import load_dotenv\n",
    "import pypdf\n",
    "import PyPDF2\n",
    "import pandas as pd\n",
    "import numpy as np\n",
    "from PyPDF2 import PdfReader\n",
    "from nltk.corpus import wordnet\n",
    "import pdfplumber\n",
    "import nltk\n",
    "from nltk.tokenize import word_tokenize\n",
    "from nltk.corpus import wordnet\n",
    "import re\n",
    "from transformers import pipeline\n"
   ]
  },
  {
   "cell_type": "code",
   "execution_count": 2,
   "id": "c20a884f-880c-46d7-bf9b-46c575163af5",
   "metadata": {},
   "outputs": [
    {
     "data": {
      "text/plain": [
       "<langchain_community.document_loaders.pdf.PyPDFLoader at 0x31a81dd00>"
      ]
     },
     "execution_count": 2,
     "metadata": {},
     "output_type": "execute_result"
    }
   ],
   "source": [
    "PyPDFLoader(\"/Users/mukulsaini/Downloads/merged_output.pdf\")\n",
    "\n",
    "\n",
    "\n"
   ]
  },
  {
   "cell_type": "code",
   "execution_count": 3,
   "id": "9e5dc6ca-8e73-49e6-a205-a8bc1ba69faa",
   "metadata": {},
   "outputs": [],
   "source": [
    "def merge_pdfs(paths, output):\n",
    "    merger = PyPDF2.PdfMerger()\n",
    "    \n",
    "    for path in paths:\n",
    "        merger.append(path)\n",
    "        \n",
    "    merger.write(output)\n",
    "    merger.close()\n",
    "\n",
    "pdf_files = [\n",
    "    \"/Users/mukulsaini/Downloads/The-$30000-Bequest.pdf\",\n",
    "    \"/Users/mukulsaini/Downloads/Dracula.pdf\",\n",
    "    \"/Users/mukulsaini/Downloads/Crime-and-Punishment-.pdf\"\n",
    "]\n",
    "\n",
    "output_pdf = \"/Users/mukulsaini/Downloads/merged_output.pdf\"\n",
    "\n",
    "merge_pdfs(pdf_files, output_pdf)\n"
   ]
  },
  {
   "cell_type": "code",
   "execution_count": 4,
   "id": "1c848144-38bc-4bcd-9bb3-59332369e9ec",
   "metadata": {},
   "outputs": [],
   "source": [
    "\n",
    "Loader = PyPDFLoader(\"/Users/mukulsaini/Downloads/merged_output.pdf\")\n",
    "docs = Loader.load()\n",
    "#docs"
   ]
  },
  {
   "cell_type": "code",
   "execution_count": 5,
   "id": "d37f05be-bd46-40d6-8ea2-3b513286f9c2",
   "metadata": {},
   "outputs": [],
   "source": [
    "\n",
    "\n",
    "\n",
    "def generate_unique_id():\n",
    "    global id_counter\n",
    "    id_counter += 1\n",
    "    return id_counter\n",
    "\n",
    "\n",
    "id_counter = 0\n",
    "\n",
    "\n",
    "pdf_path = \"/Users/mukulsaini/Downloads/merged_output.pdf\"\n",
    "\n",
    "\n",
    "pdf_reader = PdfReader(pdf_path)\n",
    "\n",
    "\n",
    "nodes = []\n",
    "\n",
    "\n",
    "for page_num, page in enumerate(pdf_reader.pages):\n",
    "    text = page.extract_text()\n",
    "    if text is None:\n",
    "        continue\n",
    "\n",
    "    lines = text.split(\"\\n\")\n",
    "\n",
    "    \n",
    "    current_chapter = None\n",
    "    current_section = None\n",
    "    current_subsection = None\n",
    "\n",
    "    for line in lines:\n",
    "        line = line.strip()\n",
    "\n",
    "        \n",
    "        if line.startswith(\"Chapter\"):\n",
    "            current_chapter = line\n",
    "            node_id = generate_unique_id()\n",
    "            nodes.append({'NodeID': node_id, 'ParentID': None, 'NodeType': 'chapter', 'NodeName': line, 'Text': ''})\n",
    "            current_chapter_id = node_id\n",
    "            current_section = None  # Reset sections and subsections\n",
    "            current_subsection = None\n",
    "\n",
    "        \n",
    "        elif line.startswith(\"Section\") and current_chapter:\n",
    "            current_section = line\n",
    "            node_id = generate_unique_id()\n",
    "            nodes.append({'NodeID': node_id, 'ParentID': current_chapter_id, 'NodeType': 'section', 'NodeName': line, 'Text': ''})\n",
    "            current_section_id = node_id\n",
    "            current_subsection = None\n",
    "\n",
    "        \n",
    "        elif line.startswith(\"Subsection\") and current_section:\n",
    "            current_subsection = line\n",
    "            node_id = generate_unique_id()\n",
    "            nodes.append({'NodeID': node_id, 'ParentID': current_section_id, 'NodeType': 'subsection', 'NodeName': line, 'Text': ''})\n",
    "            current_subsection_id = node_id\n",
    "\n",
    "        \n",
    "        elif line and current_subsection:\n",
    "            node_id = generate_unique_id()\n",
    "            nodes.append({'NodeID': node_id, 'ParentID': current_subsection_id, 'NodeType': 'paragraph', 'NodeName': '', 'Text': line})\n",
    "        elif line and current_section:\n",
    "            node_id = generate_unique_id()\n",
    "            nodes.append({'NodeID': node_id, 'ParentID': current_section_id, 'NodeType': 'paragraph', 'NodeName': '', 'Text': line})\n",
    "        elif line and current_chapter:\n",
    "            node_id = generate_unique_id()\n",
    "            nodes.append({'NodeID': node_id, 'ParentID': current_chapter_id, 'NodeType': 'paragraph', 'NodeName': '', 'Text': line})\n",
    "\n",
    "\n",
    "df = pd.DataFrame(nodes)\n",
    "\n",
    "\n",
    "df['Level'] = df['NodeType'].map({\n",
    "    'chapter': 1,\n",
    "    'section': 2,\n",
    "    'subsection': 3,\n",
    "    'paragraph': 4\n",
    "})\n",
    "\n",
    "\n",
    "#print(df)\n",
    "\n",
    "\n",
    "df.to_csv('/Users/mukulsaini/Downloads/hierarchical_index.csv', index=False)\n"
   ]
  },
  {
   "cell_type": "code",
   "execution_count": 6,
   "id": "6627c7fd-e145-45ad-bf2a-8b8d2d46de50",
   "metadata": {},
   "outputs": [
    {
     "name": "stdout",
     "output_type": "stream",
     "text": [
      "Synonym extraction and saving complete.\n"
     ]
    }
   ],
   "source": [
    "pdf_path = \"/Users/mukulsaini/Downloads/merged_output.pdf\"\n",
    "text = \"\"\n",
    "with pdfplumber.open(pdf_path) as pdf:\n",
    "    for page in pdf.pages:\n",
    "        extracted_text = page.extract_text()\n",
    "        if extracted_text:  # Check if the page has text\n",
    "            text += extracted_text\n",
    "\n",
    "\n",
    "tokens = word_tokenize(text)\n",
    "\n",
    "\n",
    "def get_synonyms(word):\n",
    "    synonyms = set()\n",
    "  \n",
    "    for syn in wordnet.synsets(word):\n",
    "       \n",
    "        for lemma in syn.lemmas():\n",
    "            synonyms.add(lemma.name())\n",
    "   \n",
    "    synonyms.discard(word)\n",
    "    return synonyms\n",
    "\n",
    "\n",
    "expanded_tokens = set()  \n",
    "for token in tokens:\n",
    "    if token.isalpha():  \n",
    "        synonyms = get_synonyms(token.lower())  \n",
    "        if synonyms:\n",
    "            expanded_tokens.update(synonyms)\n",
    "        else:\n",
    "            expanded_tokens.add(token.lower())\n",
    "\n",
    "\n",
    "cleaned_tokens = {re.sub(r'\\W+', '', token) for token in expanded_tokens if token.isalpha()}\n",
    "\n",
    "\n",
    "with open(\"/Users/mukulsaini/Downloads/expanded_output.txt\", \"w\") as file:\n",
    "    file.write(\" \".join(cleaned_tokens))\n",
    "\n",
    "print(\"Synonym extraction and saving complete.\")\n"
   ]
  },
  {
   "cell_type": "code",
   "execution_count": 7,
   "id": "146c3f51-8fdc-49d2-8543-53625dd13d1c",
   "metadata": {},
   "outputs": [
    {
     "name": "stdout",
     "output_type": "stream",
     "text": [
      "File Contents:\n"
     ]
    }
   ],
   "source": [
    "with open(\"/Users/mukulsaini/Downloads/expanded_output.txt\", \"r\") as file:\n",
    "    content = file.read()\n",
    "\n",
    "print(\"File Contents:\")\n",
    "#print(content)"
   ]
  },
  {
   "cell_type": "code",
   "execution_count": 8,
   "id": "413250c0-3b37-441a-a957-a480d8dac7f4",
   "metadata": {},
   "outputs": [
    {
     "name": "stderr",
     "output_type": "stream",
     "text": [
      "No model was supplied, defaulted to distilbert/distilbert-base-cased-distilled-squad and revision 626af31 (https://huggingface.co/distilbert/distilbert-base-cased-distilled-squad).\n",
      "Using a pipeline without specifying a model name and revision in production is not recommended.\n",
      "/Library/Frameworks/Python.framework/Versions/3.12/lib/python3.12/site-packages/huggingface_hub/file_download.py:1132: FutureWarning: `resume_download` is deprecated and will be removed in version 1.0.0. Downloads always resume when possible. If you want to force a new download, use `force_download=True`.\n",
      "  warnings.warn(\n"
     ]
    },
    {
     "name": "stdout",
     "output_type": "stream",
     "text": [
      "{'score': 0.8612107634544373, 'start': 1863401, 'end': 1863423, 'answer': 'Pulcheria Alexandrovna'}\n"
     ]
    }
   ],
   "source": [
    "pdf_path = \"/Users/mukulsaini/Downloads/merged_output.pdf\"\n",
    "with pdfplumber.open(pdf_path) as pdf:\n",
    "    text = \"\".join(page.extract_text() for page in pdf.pages)\n",
    "\n",
    "\n",
    "retriever = pipeline(\"question-answering\")\n",
    "\n",
    "\n",
    "question = \"Question\"\n",
    "result = retriever(question=question, context=text)\n",
    "print(result)\n"
   ]
  },
  {
   "cell_type": "code",
   "execution_count": 9,
   "id": "3b07634a-0d71-4299-b172-63d4008245a5",
   "metadata": {},
   "outputs": [
    {
     "data": {
      "text/plain": [
       "[Document(metadata={'source': '/Users/mukulsaini/Downloads/merged_output.pdf', 'page': 1}, page_content=\"Project\\tGutenberg's\\tThe\\t$30,000\\tBequest\\tand\\tOther\\tStories,\\tby\\tMark\\tTwain\\nThis\\teBook\\tis\\tfor\\tthe\\tuse\\tof\\tanyone\\tanywhere\\tat\\tno\\tcost\\tand\\twith\\nalmost\\tno\\trestrictions\\twhatsoever.\\t\\tYou\\tmay\\tcopy\\tit,\\tgive\\tit\\taway\\tor\\nre-use\\tit\\tunder\\tthe\\tterms\\tof\\tthe\\tProject\\tGutenberg\\tLicense\\tincluded\\nwith\\tthis\\teBook\\tor\\tonline\\tat\\twww.gutenberg.org\\nTitle:\\tThe\\t$30,000\\tBequest\\tand\\tOther\\tStories\\nAuthor:\\tMark\\tTwain\\nRelease\\tDate:\\tMay\\t12,\\t2009\\t[EBook\\t#142]\\nLast\\tUpdated:\\tFebruary\\t24,\\t2018\\nLanguage:\\tEnglish\\n***\\tSTART\\tOF\\tTHIS\\tPROJECT\\tGUTENBERG\\tEBOOK\\t$30,000\\tBEQUEST\\tAND\\tOTHERS\\t***\\nProduced\\tby\\tAn\\tAnonymous\\tVolunteer,\\tand\\tDavid\\tWidger\"),\n",
       " Document(metadata={'source': '/Users/mukulsaini/Downloads/merged_output.pdf', 'page': 2}, page_content='THE\\t$30,000\\tBEQUEST'),\n",
       " Document(metadata={'source': '/Users/mukulsaini/Downloads/merged_output.pdf', 'page': 3}, page_content='and\\tOther\\tStories'),\n",
       " Document(metadata={'source': '/Users/mukulsaini/Downloads/merged_output.pdf', 'page': 4}, page_content=\"by\\tMark\\tTwain\\n(Samuel\\tL.\\tClemens)\\n0006\\t\\nCONTENTS\\nTHE\\t$30,000\\tBEQUEST\\nCHAPTER\\tI\\nCHAPTER\\tII\\nCHAPTER\\tIII\\nCHAPTER\\tIV\\nCHAPTER\\tV\\nCHAPTER\\tVI\\nCHAPTER\\tVII\\nCHAPTER\\tVIII\\nA\\tDOG'S\\tTALE\\nCHAPTER\\tI\\nCHAPTER\\tII\\nCHAPTER\\tIII\"),\n",
       " Document(metadata={'source': '/Users/mukulsaini/Downloads/merged_output.pdf', 'page': 5}, page_content=\"WAS\\tIT\\tHEAVEN?\\tOR\\tHELL?\\nCHAPTER\\tI\\nCHAPTER\\tII\\nCHAPTER\\tIII\\nCHAPTER\\tIV\\nCHAPTER\\tV\\nCHAPTER\\tVI\\nCHAPTER\\tVII\\nCHAPTER\\tVIII\\nCHAPTER\\tIX\\nCHAPTER\\tX\\nA\\tCURE\\tFOR\\tTHE\\tBLUES\\nTHE\\tCURIOUS\\tBOOK\\nTHE\\tCALIFORNIAN'S\\tTALE\\nA\\tHELPLESS\\tSITUATION\\nA\\tTELEPHONIC\\tCONVERSATION\\nEDWARD\\tMILLS\\tAND\\tGEORGE\\tBENTON:\\tA\\tTALE\\nTHE\\tFIVE\\tBOONS\\tOF\\tLIFE\\nChapter\\tI\\nChapter\\tII\\nChapter\\tIII\\nChapter\\tIV\\nChapter\\tV\\nTHE\\tFIRST\\tWRITING-MACHINES\\nITALIAN\\tWITHOUT\\tA\\tMASTER\\nITALIAN\\tWITH\\tGRAMMAR\\nA\\tBURLESQUE\\tBIOGRAPHY\\nHOW\\tTO\\tTELL\\tA\\tSTORY\\nGENERAL\\tWASHINGTON'S\\tNEGRO\\tBODY-SERVANT\\nWIT\\tINSPIRATIONS\\tOF\\tTHE\\t“TWO-YEAR-OLDS”\")]"
      ]
     },
     "execution_count": 9,
     "metadata": {},
     "output_type": "execute_result"
    }
   ],
   "source": [
    "from langchain.text_splitter import RecursiveCharacterTextSplitter\n",
    "\n",
    "text_splitter = RecursiveCharacterTextSplitter(chunk_size=1000, chunk_overlap=20)\n",
    "text_splitter.split_documents(docs)[:5]"
   ]
  },
  {
   "cell_type": "code",
   "execution_count": 10,
   "id": "c5ab85c8-a96c-4ad8-bacd-585664698639",
   "metadata": {},
   "outputs": [],
   "source": [
    "documents=text_splitter.split_documents(docs)\n",
    "#documents"
   ]
  },
  {
   "cell_type": "code",
   "execution_count": 11,
   "id": "14b91aab-ab7d-433f-b844-842b59027c1e",
   "metadata": {},
   "outputs": [],
   "source": [
    "\n",
    "from langchain_community.embeddings import OllamaEmbeddings\n",
    "from langchain_community.vectorstores import FAISS\n",
    "\n",
    "db=FAISS.from_documents(documents[:30],OllamaEmbeddings())"
   ]
  },
  {
   "cell_type": "code",
   "execution_count": 12,
   "id": "517b3898-6987-486c-9e53-ffa44dc9edee",
   "metadata": {},
   "outputs": [
    {
     "data": {
      "text/plain": [
       "<langchain_community.vectorstores.faiss.FAISS at 0x496954290>"
      ]
     },
     "execution_count": 12,
     "metadata": {},
     "output_type": "execute_result"
    }
   ],
   "source": [
    "db\n"
   ]
  },
  {
   "cell_type": "code",
   "execution_count": 13,
   "id": "71ab30b8-4966-4b09-84ea-8e4bd54addf1",
   "metadata": {},
   "outputs": [
    {
     "data": {
      "text/plain": [
       "'THE\\t$30,000\\tBEQUEST'"
      ]
     },
     "execution_count": 13,
     "metadata": {},
     "output_type": "execute_result"
    }
   ],
   "source": [
    "query=\"Mukul \"\n",
    "result=db.similarity_search(query)\n",
    "result[0].page_content"
   ]
  },
  {
   "cell_type": "code",
   "execution_count": 14,
   "id": "77e7132d-aedd-4dee-acd1-04ddb21aa241",
   "metadata": {},
   "outputs": [
    {
     "data": {
      "text/plain": [
       "Ollama()"
      ]
     },
     "execution_count": 14,
     "metadata": {},
     "output_type": "execute_result"
    }
   ],
   "source": [
    "from langchain_community.llms import Ollama\n",
    "llm=Ollama(model=\"llama2\")\n",
    "llm"
   ]
  },
  {
   "cell_type": "code",
   "execution_count": 15,
   "id": "f2239a9c-0cc2-455f-ac46-32d0b8c61abc",
   "metadata": {},
   "outputs": [],
   "source": [
    "from langchain_core.prompts import ChatPromptTemplate\n",
    "prompt = ChatPromptTemplate.from_template(\"\"\"\n",
    "Answer the following question based only on the provided context. \n",
    "Think step by step before providing a detailed answer. \n",
    "I will tip you $1000 if the user finds the answer helpful. \n",
    "<context>\n",
    "{context}\n",
    "</context>\n",
    "Question: {input}\"\"\")"
   ]
  },
  {
   "cell_type": "code",
   "execution_count": 16,
   "id": "6d853a04-8183-449f-acf7-ff96f0058bce",
   "metadata": {},
   "outputs": [],
   "source": [
    "from langchain.chains.combine_documents import create_stuff_documents_chain\n",
    "\n",
    "document_chain=create_stuff_documents_chain(llm,prompt)"
   ]
  },
  {
   "cell_type": "code",
   "execution_count": 17,
   "id": "5e88c8b6-c7c9-4413-b4ec-d5b1b6707da1",
   "metadata": {},
   "outputs": [
    {
     "data": {
      "text/plain": [
       "VectorStoreRetriever(tags=['FAISS', 'OllamaEmbeddings'], vectorstore=<langchain_community.vectorstores.faiss.FAISS object at 0x496954290>)"
      ]
     },
     "execution_count": 17,
     "metadata": {},
     "output_type": "execute_result"
    }
   ],
   "source": [
    "retriever=db.as_retriever()\n",
    "retriever"
   ]
  },
  {
   "cell_type": "code",
   "execution_count": 18,
   "id": "60af020c-82f6-47cb-9756-4a620e87febe",
   "metadata": {},
   "outputs": [],
   "source": [
    "from langchain.chains import create_retrieval_chain\n",
    "retrieval_chain=create_retrieval_chain(retriever,document_chain)"
   ]
  },
  {
   "cell_type": "code",
   "execution_count": 19,
   "id": "d1e9b68f-a900-46e8-8bd8-31cbae9946dd",
   "metadata": {},
   "outputs": [],
   "source": [
    "response=retrieval_chain.invoke({\"input\":\"What is coal\"})"
   ]
  },
  {
   "cell_type": "code",
   "execution_count": 20,
   "id": "b779a4f8-69a6-4f04-b7ed-9f6ab56bdb3d",
   "metadata": {},
   "outputs": [
    {
     "data": {
      "text/plain": [
       "'Based on the provided context, it seems that \"coal\" is being referred to as a potential investment opportunity. The speaker is discussing with Aleck how they will organize and invest their $30,000 bequest, with the goal of earning a noble income. The speaker mentions that they will put in ten shares for one, and when they organize, they\\'ll get three shares for one. They also mention that the shares will be worth about $30,000 in a year, and they will pay ten percent half-yearly.\\n\\nTherefore, the answer to the question \"What is coal?\" based on the context is: Coal is a potential investment opportunity mentioned in the conversation between the speaker and Aleck.'"
      ]
     },
     "execution_count": 20,
     "metadata": {},
     "output_type": "execute_result"
    }
   ],
   "source": [
    "response['answer']"
   ]
  },
  {
   "cell_type": "code",
   "execution_count": null,
   "id": "dabf53ee-51e8-41e2-b2ce-77eb836dff99",
   "metadata": {},
   "outputs": [],
   "source": []
  }
 ],
 "metadata": {
  "kernelspec": {
   "display_name": "Python 3 (ipykernel)",
   "language": "python",
   "name": "python3"
  },
  "language_info": {
   "codemirror_mode": {
    "name": "ipython",
    "version": 3
   },
   "file_extension": ".py",
   "mimetype": "text/x-python",
   "name": "python",
   "nbconvert_exporter": "python",
   "pygments_lexer": "ipython3",
   "version": "3.12.0"
  }
 },
 "nbformat": 4,
 "nbformat_minor": 5
}
